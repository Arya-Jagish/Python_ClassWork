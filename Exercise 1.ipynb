{
 "cells": [
  {
   "cell_type": "code",
   "execution_count": 6,
   "id": "eb21daf0",
   "metadata": {},
   "outputs": [
    {
     "name": "stdout",
     "output_type": "stream",
     "text": [
      "Enter first number:20\n",
      "Enter second number:40\n",
      "1.Add\n",
      " 2.Sub\n",
      " 3.Multiply\n",
      "\n",
      "Enter the choice3\n",
      "800\n"
     ]
    }
   ],
   "source": [
    "x=int(input(\"Enter first number:\"))\n",
    "y=int(input(\"Enter second number:\"))\n",
    "print(\"1.Add\\n 2.Sub\\n 3.Multiply\\n\")\n",
    "ch=int(input(\"Enter the choice\"))\n",
    "if ch==1:\n",
    "    sum=int(x+y)\n",
    "    print(sum)\n",
    "elif ch==2:\n",
    "    sub=int(x-y)\n",
    "    print(sub)\n",
    "elif ch==3:\n",
    "    multiply=int(x*y)\n",
    "    print(multiply)"
   ]
  },
  {
   "cell_type": "code",
   "execution_count": 4,
   "id": "9a42b758",
   "metadata": {},
   "outputs": [
    {
     "name": "stdout",
     "output_type": "stream",
     "text": [
      "14\n"
     ]
    }
   ],
   "source": [
    "import random\n",
    "print(random.randrange(1,61))"
   ]
  },
  {
   "cell_type": "code",
   "execution_count": 22,
   "id": "7694a224",
   "metadata": {},
   "outputs": [
    {
     "name": "stdout",
     "output_type": "stream",
     "text": [
      "A\n",
      "r\n",
      "y\n",
      "a\n",
      " \n",
      "J\n",
      "a\n",
      "g\n",
      "i\n",
      "s\n",
      "h\n",
      "r\n",
      "True\n",
      "False\n",
      "Arya\n",
      "a Jagish\n",
      "agi\n"
     ]
    }
   ],
   "source": [
    "name=\"Arya Jagish\"\n",
    "for x in name:\n",
    "    print(x)\n",
    "print(name[1])\n",
    "print(\"Jagish\" in name)\n",
    "print(\"Jagish\" not in name)\n",
    "print(name[0:4])\n",
    "print(name[3:])\n",
    "print(name[-5:-2])"
   ]
  },
  {
   "cell_type": "code",
   "execution_count": 21,
   "id": "498fefe5",
   "metadata": {},
   "outputs": [
    {
     "name": "stdout",
     "output_type": "stream",
     "text": [
      "ARYA JAGISH\n",
      "arya jagish\n"
     ]
    }
   ],
   "source": [
    "name=\"Arya Jagish\"\n",
    "print(name.upper())\n",
    "print(name.lower())"
   ]
  },
  {
   "cell_type": "code",
   "execution_count": 28,
   "id": "6d886efa",
   "metadata": {},
   "outputs": [
    {
     "name": "stdout",
     "output_type": "stream",
     "text": [
      "Arya Jagish\n",
      "['Arya', 'Jagish']\n",
      "         Hrya Jagish\n"
     ]
    }
   ],
   "source": [
    "name=\"         Arya Jagish\"\n",
    "print(name.strip())\n",
    "print(name.split())\n",
    "print(name.replace(\"A\",\"H\"))"
   ]
  },
  {
   "cell_type": "code",
   "execution_count": 27,
   "id": "ed5ac16b",
   "metadata": {},
   "outputs": [
    {
     "name": "stdout",
     "output_type": "stream",
     "text": [
      "['Arya', 'Athul', 'Ashwin']\n",
      "Arya\n",
      "Athul\n",
      "Ashwin\n",
      "['Arya', 'Athul', 'Ashwin']\n",
      "7\n",
      "['Arya', 'Rishi', 'Athul', 'Ashwin', '12', 'Malu', 'Rishi']\n",
      "['Rishi', 'Ashwin', '12', 'Rishi']\n",
      "[]\n"
     ]
    }
   ],
   "source": [
    "name=[\"Arya\",\"Athul\",\"Ashwin\"]\n",
    "name2={\"Rishi\",\"Malu\"}\n",
    "print(name)\n",
    "print(name[0])\n",
    "print(name[1])\n",
    "print(name[2])\n",
    "name.append(\"12\")\n",
    "print(name[0:3])\n",
    "name.insert(1,\"Rishi\") #To insert a list item at a specified index\n",
    "name.extend(name2)  # To append elements from another list to the current list\n",
    "print(len(name))\n",
    "print(name)\n",
    "name.remove(\"Malu\")\n",
    "name.pop(2) #pop removes the specified index\n",
    "del name[0] #del is a reserved keyword\n",
    "print(name)\n",
    "name.clear()\n",
    "print(name)\n"
   ]
  },
  {
   "cell_type": "code",
   "execution_count": 25,
   "id": "521eac12",
   "metadata": {},
   "outputs": [
    {
     "name": "stdout",
     "output_type": "stream",
     "text": [
      "[1 2 3 4 5]\n"
     ]
    }
   ],
   "source": [
    "import numpy as np # to display arry in python, we have to import numPy\n",
    "\n",
    "arr = np.array([1, 2, 3, 4, 5])\n",
    "\n",
    "print(arr)"
   ]
  },
  {
   "cell_type": "code",
   "execution_count": 28,
   "id": "c410f9ad",
   "metadata": {},
   "outputs": [
    {
     "name": "stdout",
     "output_type": "stream",
     "text": [
      "apple\n",
      "banana\n",
      "cherry\n"
     ]
    }
   ],
   "source": [
    "thislist = [\"apple\", \"banana\", \"cherry\"]  #for loop\n",
    "for x in thislist:\n",
    "  print(x)\n"
   ]
  },
  {
   "cell_type": "code",
   "execution_count": 32,
   "id": "b61cc5f9",
   "metadata": {},
   "outputs": [
    {
     "name": "stdout",
     "output_type": "stream",
     "text": [
      "apple\n",
      "banana\n",
      "cherry\n"
     ]
    }
   ],
   "source": [
    "thislist=[\"apple\",\"banana\",\"cherry\"]  #for loop range\n",
    "for i in range(len(thislist)):\n",
    "    print(thislist[i])"
   ]
  },
  {
   "cell_type": "code",
   "execution_count": 33,
   "id": "e5719b7b",
   "metadata": {},
   "outputs": [
    {
     "name": "stdout",
     "output_type": "stream",
     "text": [
      "apple\n",
      "banana\n",
      "cherry\n"
     ]
    }
   ],
   "source": [
    "thislist=[\"apple\",\"banana\",\"cherry\"] #while loop\n",
    "i=0\n",
    "while i<len(thislist):\n",
    "    print(thislist[i])\n",
    "    i=i+1\n"
   ]
  },
  {
   "cell_type": "code",
   "execution_count": 34,
   "id": "42f9b390",
   "metadata": {},
   "outputs": [
    {
     "name": "stdout",
     "output_type": "stream",
     "text": [
      "apple\n",
      "banana\n",
      "cherry\n"
     ]
    },
    {
     "data": {
      "text/plain": [
       "[None, None, None]"
      ]
     },
     "execution_count": 34,
     "metadata": {},
     "output_type": "execute_result"
    }
   ],
   "source": [
    "# Looping Using List Comprehension\n",
    "thislist=[\"apple\",\"banana\",\"cherry\"] \n",
    "[print(x) for x in thislist]"
   ]
  },
  {
   "cell_type": "code",
   "execution_count": 37,
   "id": "db6bcdf4",
   "metadata": {},
   "outputs": [
    {
     "name": "stdout",
     "output_type": "stream",
     "text": [
      "['apple', 'banana']\n"
     ]
    }
   ],
   "source": [
    "thislist=[\"apple\",\"banana\",\"cherry\"] \n",
    "newlist=[x for x in thislist if 'a' in x]\n",
    "print(newlist)"
   ]
  },
  {
   "cell_type": "code",
   "execution_count": 39,
   "id": "a077f95e",
   "metadata": {},
   "outputs": [
    {
     "name": "stdout",
     "output_type": "stream",
     "text": [
      "['amla', 'apple', 'banana', 'cherry', 'orange']\n"
     ]
    }
   ],
   "source": [
    "thislist=[\"apple\",\"banana\",\"cherry\",\"orange\",\"amla\"] \n",
    "thislist.sort()\n",
    "print(thislist)"
   ]
  },
  {
   "cell_type": "code",
   "execution_count": 40,
   "id": "779cc8e4",
   "metadata": {},
   "outputs": [
    {
     "name": "stdout",
     "output_type": "stream",
     "text": [
      "['orange', 'cherry', 'banana', 'apple', 'amla']\n"
     ]
    }
   ],
   "source": [
    "thislist=[\"apple\",\"banana\",\"cherry\",\"orange\",\"amla\"] \n",
    "thislist.sort(reverse = True)\n",
    "print(thislist)"
   ]
  },
  {
   "cell_type": "code",
   "execution_count": 44,
   "id": "515a133c",
   "metadata": {},
   "outputs": [
    {
     "name": "stdout",
     "output_type": "stream",
     "text": [
      "[50, 20, 100, 150, 360]\n"
     ]
    }
   ],
   "source": [
    "#Customize the sort function......the no nearest to the list\n",
    "def myfun(n):\n",
    "    return abs(n-50)\n",
    "thislist=[100,50,20,150,360]\n",
    "thislist.sort(key=myfun)\n",
    "print(thislist)"
   ]
  },
  {
   "cell_type": "code",
   "execution_count": 46,
   "id": "cb492202",
   "metadata": {},
   "outputs": [
    {
     "name": "stdout",
     "output_type": "stream",
     "text": [
      "['amla', 'APPLE', 'banana', 'CHERRY', 'orange']\n"
     ]
    }
   ],
   "source": [
    "#Case Insensitive Sort\n",
    "\n",
    "thislist=[\"APPLE\",\"banana\",\"CHERRY\",\"orange\",\"amla\"] \n",
    "thislist.sort(key=str.lower)\n",
    "print(thislist)"
   ]
  },
  {
   "cell_type": "code",
   "execution_count": 47,
   "id": "96cfd4ab",
   "metadata": {},
   "outputs": [
    {
     "name": "stdout",
     "output_type": "stream",
     "text": [
      "HEllo\n"
     ]
    }
   ],
   "source": [
    "# fUNCTIONS\n",
    "\n",
    "def myfun():\n",
    "    print(\"HEllo\")\n",
    "myfun()"
   ]
  },
  {
   "cell_type": "code",
   "execution_count": 48,
   "id": "dbda9553",
   "metadata": {},
   "outputs": [
    {
     "name": "stdout",
     "output_type": "stream",
     "text": [
      "Arya Jagish\n"
     ]
    }
   ],
   "source": [
    "def myfun(fname,lname):\n",
    "    print(fname+\" \"+lname)\n",
    "myfun(\"Arya\",\"Jagish\")"
   ]
  },
  {
   "cell_type": "code",
   "execution_count": 50,
   "id": "25b03c08",
   "metadata": {},
   "outputs": [
    {
     "name": "stdout",
     "output_type": "stream",
     "text": [
      "The youngest child is ashwin\n"
     ]
    }
   ],
   "source": [
    "def my_function(*name):\n",
    "  print(\"The youngest child is \" + name[2])\n",
    "\n",
    "my_function(\"arya\", \"athul\", \"ashwin\")"
   ]
  },
  {
   "cell_type": "code",
   "execution_count": 1,
   "id": "a7c688b1",
   "metadata": {},
   "outputs": [
    {
     "name": "stdout",
     "output_type": "stream",
     "text": [
      "The youngest child is :Arya\n"
     ]
    }
   ],
   "source": [
    "#keyword arguments\n",
    "\n",
    "def myfun(name1,name2,name3):\n",
    "    print(\"The youngest child is :\" + name3)\n",
    "myfun(name3=\"Arya\",name2=\"Athul\",name1=\"Ashwin\")"
   ]
  },
  {
   "cell_type": "code",
   "execution_count": 55,
   "id": "3868d4d0",
   "metadata": {},
   "outputs": [
    {
     "name": "stdout",
     "output_type": "stream",
     "text": [
      "His last name is Jagish\n"
     ]
    }
   ],
   "source": [
    "#arbitrary keyword arguments\n",
    "\n",
    "def my_function(**kid):\n",
    "  print(\"His last name is \" + kid[\"lname\"])\n",
    "\n",
    "my_function(fname = \"Arya\", lname = \"Jagish\")"
   ]
  },
  {
   "cell_type": "code",
   "execution_count": 57,
   "id": "4b7df842",
   "metadata": {},
   "outputs": [
    {
     "name": "stdout",
     "output_type": "stream",
     "text": [
      "I am Ashwin\n",
      "I am Athul\n"
     ]
    }
   ],
   "source": [
    "#default parameter values\n",
    "\n",
    "def myfun(name=\"Arya\"):\n",
    "    print(\"I am \"+name)\n",
    "myfun(\"Ashwin\")\n",
    "myfun(\"Athul\")"
   ]
  },
  {
   "cell_type": "code",
   "execution_count": 58,
   "id": "484c8911",
   "metadata": {},
   "outputs": [
    {
     "name": "stdout",
     "output_type": "stream",
     "text": [
      "apple\n",
      "orange\n",
      "grapes\n"
     ]
    }
   ],
   "source": [
    "#passing a list as an argument\n",
    "\n",
    "def myfun(food):\n",
    "    for x in food:\n",
    "        print(x)\n",
    "        \n",
    "fruits=[\"apple\",\"orange\",\"grapes\"]\n",
    "myfun(fruits)"
   ]
  },
  {
   "cell_type": "code",
   "execution_count": 11,
   "id": "7554446d",
   "metadata": {},
   "outputs": [
    {
     "name": "stdout",
     "output_type": "stream",
     "text": [
      "50\n"
     ]
    }
   ],
   "source": [
    "#Return function\n",
    "\n",
    "def myfun(x):\n",
    "    return 5*x\n",
    "\n",
    "print(myfun(10))"
   ]
  },
  {
   "cell_type": "code",
   "execution_count": 13,
   "id": "c6dc9c9c",
   "metadata": {},
   "outputs": [
    {
     "name": "stdout",
     "output_type": "stream",
     "text": [
      "\n",
      "\n",
      "Recursion Example Results\n",
      "1\n",
      "3\n",
      "6\n",
      "10\n",
      "15\n",
      "21\n"
     ]
    },
    {
     "data": {
      "text/plain": [
       "21"
      ]
     },
     "execution_count": 13,
     "metadata": {},
     "output_type": "execute_result"
    }
   ],
   "source": [
    "#  Recursion\n",
    "\n",
    "def tri_recursion(k):\n",
    "  if(k > 0):\n",
    "    result = k + tri_recursion(k - 1)\n",
    "    print(result)\n",
    "  else:\n",
    "    result = 0\n",
    "  return result\n",
    "\n",
    "print(\"\\n\\nRecursion Example Results\")\n",
    "tri_recursion(6)"
   ]
  },
  {
   "cell_type": "code",
   "execution_count": 15,
   "id": "fb4e8685",
   "metadata": {},
   "outputs": [
    {
     "name": "stdout",
     "output_type": "stream",
     "text": [
      "['Apple', 'Orange', 'Kiwi']\n"
     ]
    }
   ],
   "source": [
    "#Copy a list\n",
    "\n",
    "fruits=[\"Apple\",\"Orange\",\"Kiwi\"]\n",
    "mylist=fruits.copy()\n",
    "print(mylist)"
   ]
  },
  {
   "cell_type": "code",
   "execution_count": 18,
   "id": "95721b3e",
   "metadata": {},
   "outputs": [
    {
     "name": "stdout",
     "output_type": "stream",
     "text": [
      "['a', 'b', 'c', 1]\n"
     ]
    }
   ],
   "source": [
    "list1=['a','b','c']   #Not just a copy its just creating a refernce of list1\n",
    "list2=list1\n",
    "list1.append(1)\n",
    "print(list2)"
   ]
  },
  {
   "cell_type": "code",
   "execution_count": 26,
   "id": "93927a69",
   "metadata": {},
   "outputs": [
    {
     "name": "stdout",
     "output_type": "stream",
     "text": [
      "['a', 'b', 'c', 1, 2, 3]\n"
     ]
    },
    {
     "data": {
      "text/plain": [
       "1"
      ]
     },
     "execution_count": 26,
     "metadata": {},
     "output_type": "execute_result"
    }
   ],
   "source": [
    "#Join the list\n",
    "\n",
    "list1=[\"a\",\"b\",\"c\"]\n",
    "list2=[1,2,3]\n",
    "\n",
    "list3=list1+list2\n",
    "print(list3)\n",
    "list3.count(3)"
   ]
  },
  {
   "cell_type": "code",
   "execution_count": 30,
   "id": "c4461716",
   "metadata": {},
   "outputs": [
    {
     "data": {
      "text/plain": [
       "1"
      ]
     },
     "execution_count": 30,
     "metadata": {},
     "output_type": "execute_result"
    }
   ],
   "source": [
    "# count \n",
    "\n",
    "list1=[\"a\",\"b\",\"c\",1,5,6]\n",
    "list1.count(1)"
   ]
  },
  {
   "cell_type": "code",
   "execution_count": 23,
   "id": "145c2353",
   "metadata": {},
   "outputs": [
    {
     "name": "stdout",
     "output_type": "stream",
     "text": [
      "2022\n",
      "4\n",
      "['Ford', 'Alto']\n",
      "['Mustang', 'i10']\n",
      "[200000, 150000]\n",
      "Yes, 'model' is keys in the thisdict\n",
      "dict_values([['Ford', 'Alto'], ['Mustang', 'i10'], [200000, 150000], 2022])\n"
     ]
    }
   ],
   "source": [
    "thisdict = {\n",
    "  \"brand\": [\"Ford\",\"Alto\"],\n",
    "  \"model\": [\"Mustang\",\"i10\"],\n",
    "    \"price\":[200000,150000],\n",
    "    \"year\":2022\n",
    "\n",
    "    \n",
    "}\n",
    "print(thisdict[\"year\"])\n",
    "print(len(thisdict))\n",
    "print(thisdict[\"brand\"])\n",
    "print(thisdict[\"model\"])\n",
    "print(thisdict[\"price\"])\n",
    "x=thisdict.get(\"model\")\n",
    "x=thisdict.values()\n",
    "x=thisdict.keys()\n",
    "x=thisdict.values()\n",
    "if \"model\" in thisdict:\n",
    "  print(\"Yes, 'model' is keys in the thisdict\")\n",
    "print(x)\n",
    "\n",
    "#Change data in dictionary\n",
    "\n",
    "thisdict[\"year\"]=2022"
   ]
  },
  {
   "cell_type": "code",
   "execution_count": 59,
   "id": "c3149b20",
   "metadata": {},
   "outputs": [
    {
     "name": "stdout",
     "output_type": "stream",
     "text": [
      "[300000, 150000]\n",
      "{'flowers': ['Rose', 'Lotus', True, False, {'brand': ['Ford', 'Alto'], 'model': ['Mustang', 'i10'], 'price': [300000, 150000], 'year': 2022}], 'vegetables': ['Carrot', 'Cabbage', None, range(0, -2)], 'Price': [300000, 150000], 'Category': ('a', 'b', 'c')}\n"
     ]
    }
   ],
   "source": [
    "thisdict1 = {\n",
    "  \"brand\": [\"Ford\",\"Alto\"],\n",
    "  \"model\": [\"Mustang\",\"i10\"],\n",
    "    \"price\":[200000,150000],\n",
    "    \"year\":2022   \n",
    "}\n",
    "\n",
    "thisdict={\n",
    "    \"flowers\":[\"Rose\",\"Lotus\",True,False,thisdict1],\n",
    "    \"vegetables\":[\"Carrot\",\"Cabbage\",None,range(0-2)],\n",
    "    \"Price\":{12,23,44,0.12,2+4j},\n",
    "    \"Category\":(\"a\",\"b\",\"c\")\n",
    "\n",
    "}\n",
    "# print(thisdict[\"flowers\"])\n",
    "# print(thisdict[\"vegetables\"])\n",
    "# print(thisdict[\"Price\"])\n",
    "# print(thisdict[\"Category\"])\n",
    "# thisdict.update({\"year\": 2020}) \n",
    "\n",
    "tt =thisdict1[\"price\"]\n",
    "tt[0]=300000\n",
    "print(tt)\n",
    "thisdict.update({\"Price\": tt}) \n",
    "print(thisdict)"
   ]
  },
  {
   "cell_type": "code",
   "execution_count": 47,
   "id": "e512fd78",
   "metadata": {},
   "outputs": [
    {
     "name": "stdout",
     "output_type": "stream",
     "text": [
      "{'brand': 'Ford', 'model': '3 Pro', 'year': 2020}\n"
     ]
    }
   ],
   "source": [
    "thisdict = {                #Change values\n",
    "  \"brand\": \"Ford\",\n",
    "  \"model\": \"Mustang\",\n",
    "  \"year\": [1964,2023]\n",
    "}\n",
    "thisdict[\"year\"] = 2022\n",
    "thisdict[\"model\"] = \"3 Pro\"\n",
    "thisdict.update({\"year\": 2020}) #Update values\n",
    "print(thisdict)"
   ]
  },
  {
   "cell_type": "code",
   "execution_count": 77,
   "id": "b6f0bc20",
   "metadata": {},
   "outputs": [
    {
     "name": "stdout",
     "output_type": "stream",
     "text": [
      "Ford\n",
      "Alto\n",
      "{'brand': ['Ford', 'Alto'], 'model': ['Mustang', 'i10'], 'year': [1964, 2023]}\n"
     ]
    }
   ],
   "source": [
    "thisdict = {                #Remove values\n",
    "  \"brand\": [\"Ford\",\"Alto\"],\n",
    "  \"model\": [\"Mustang\",\"i10\"],\n",
    "  \"year\": [1964,2023]\n",
    "}\n",
    "\n",
    "# thisdict.pop(\"brand\")\n",
    "# thisdict.popitem()\n",
    "# del thisdict[\"model\"]\n",
    "# print(thisdict)\n",
    "for x in thisdict[\"brand\"]:  #looping\n",
    "    print(x)\n",
    "mydict = dict(thisdict)  #Copying dict\n",
    "print(mydict)"
   ]
  },
  {
   "cell_type": "code",
   "execution_count": 79,
   "id": "01dee9e6",
   "metadata": {},
   "outputs": [
    {
     "name": "stdout",
     "output_type": "stream",
     "text": [
      "{'child1': {'name': 'Emil', 'year': 2004}, 'child2': {'name': 'Tobias', 'year': 2007}, 'child3': {'name': 'Linus', 'year': 2011}}\n"
     ]
    }
   ],
   "source": [
    "child1 = {                      #nesting dict\n",
    "  \"name\" : \"Emil\",\n",
    "  \"year\" : 2004\n",
    "}\n",
    "child2 = {\n",
    "  \"name\" : \"Tobias\",\n",
    "  \"year\" : 2007\n",
    "}\n",
    "child3 = {\n",
    "  \"name\" : \"Linus\",\n",
    "  \"year\" : 2011\n",
    "}\n",
    "\n",
    "myfamily = {\n",
    "  \"child1\" : child1,\n",
    "  \"child2\" : child2,\n",
    "  \"child3\" : child3\n",
    "}\n",
    "\n",
    "print(myfamily)"
   ]
  },
  {
   "cell_type": "code",
   "execution_count": 1,
   "id": "28cc81dc",
   "metadata": {},
   "outputs": [
    {
     "name": "stdout",
     "output_type": "stream",
     "text": [
      "2\n",
      "3\n",
      "4\n"
     ]
    }
   ],
   "source": [
    "for x in range(2,5):  #range\n",
    "    print(x)"
   ]
  },
  {
   "cell_type": "code",
   "execution_count": 3,
   "id": "33614d6a",
   "metadata": {},
   "outputs": [
    {
     "name": "stdout",
     "output_type": "stream",
     "text": [
      "16\n"
     ]
    }
   ],
   "source": [
    "x=lambda a:a+10  #lambda Function\n",
    "print(x(6))"
   ]
  },
  {
   "cell_type": "code",
   "execution_count": 4,
   "id": "42e2545e",
   "metadata": {},
   "outputs": [
    {
     "data": {
      "text/plain": [
       "15"
      ]
     },
     "execution_count": 4,
     "metadata": {},
     "output_type": "execute_result"
    }
   ],
   "source": [
    "def add_fun(x):\n",
    "    x+=10\n",
    "    return x\n",
    "\n",
    "add_fun(5)\n",
    "    \n",
    "\n",
    "    "
   ]
  },
  {
   "cell_type": "code",
   "execution_count": 22,
   "id": "54548e65",
   "metadata": {},
   "outputs": [
    {
     "name": "stdout",
     "output_type": "stream",
     "text": [
      "<class 'numpy.ndarray'>\n",
      "[2 4 5 7]\n",
      "[2]\n"
     ]
    }
   ],
   "source": [
    "import numpy as np                #Array\n",
    "import random                     \n",
    "\n",
    "Nos=np.array([2,4,5,7])\n",
    "RandomNo=np.array([random.choice(Nos)])\n",
    "\n",
    "print(type(Nos))\n",
    "print(Nos)\n",
    "print(RandomNo)\n"
   ]
  },
  {
   "cell_type": "code",
   "execution_count": 25,
   "id": "de121e0c",
   "metadata": {},
   "outputs": [
    {
     "name": "stdout",
     "output_type": "stream",
     "text": [
      "[0.21513901 0.14217228 0.99728366 0.13409147 0.85542053 0.48394379\n",
      " 0.78839143 0.51332146 0.5357691  0.04175302]\n",
      "<class 'numpy.ndarray'>\n"
     ]
    }
   ],
   "source": [
    "from numpy import random\n",
    "\n",
    "x = random.rand(10)\n",
    "\n",
    "print(x)\n",
    "print(type(x))"
   ]
  },
  {
   "cell_type": "code",
   "execution_count": 21,
   "id": "1b054310",
   "metadata": {},
   "outputs": [
    {
     "name": "stdout",
     "output_type": "stream",
     "text": [
      "5\n"
     ]
    }
   ],
   "source": [
    "from numpy import random \n",
    "\n",
    "x = random.choice([3, 5, 7, 9])\n",
    "\n",
    "print(x)"
   ]
  },
  {
   "cell_type": "code",
   "execution_count": 27,
   "id": "1a770d10",
   "metadata": {},
   "outputs": [
    {
     "name": "stdout",
     "output_type": "stream",
     "text": [
      "20\n"
     ]
    }
   ],
   "source": [
    "# Class Ands Object\n",
    "\n",
    "class MyClass:\n",
    "    x=20\n",
    "p1=MyClass()\n",
    "print(p1.x)"
   ]
  },
  {
   "cell_type": "code",
   "execution_count": 33,
   "id": "cbc5255f",
   "metadata": {},
   "outputs": [
    {
     "name": "stdout",
     "output_type": "stream",
     "text": [
      "Arya\n",
      "23\n"
     ]
    }
   ],
   "source": [
    "# __init__function\n",
    "\n",
    "class MyClass:\n",
    "    def __init__(self,name,age):\n",
    "        self.name=name\n",
    "        self.age=age\n",
    "        \n",
    "p1=MyClass(\"Arya\",23)\n",
    "print(p1.name)\n",
    "print(p1.age)\n",
    "        \n",
    "    "
   ]
  },
  {
   "cell_type": "code",
   "execution_count": 34,
   "id": "39521a6e",
   "metadata": {},
   "outputs": [
    {
     "name": "stdout",
     "output_type": "stream",
     "text": [
      "Arya\n",
      "23\n"
     ]
    }
   ],
   "source": [
    "\n",
    "class MyClass:\n",
    "    def __init__(self,x,y):\n",
    "        self.name=x\n",
    "        self.age=y\n",
    "        \n",
    "p1=MyClass(\"Arya\",23)\n",
    "print(p1.name)\n",
    "print(p1.age)\n",
    "        \n",
    "    "
   ]
  },
  {
   "cell_type": "code",
   "execution_count": 36,
   "id": "bf3510c8",
   "metadata": {},
   "outputs": [
    {
     "name": "stdout",
     "output_type": "stream",
     "text": [
      "Hello my name is John\n"
     ]
    }
   ],
   "source": [
    "class Person:\n",
    "  def __init__(self, name, age):\n",
    "    self.name = name\n",
    "    self.age = age\n",
    "\n",
    "  def myfunc(abc):\n",
    "    print(\"Hello my name is \" + abc.name)\n",
    "\n",
    "p1 = Person(\"John\", 36)\n",
    "p1.myfunc()"
   ]
  },
  {
   "cell_type": "code",
   "execution_count": null,
   "id": "76af17d7",
   "metadata": {},
   "outputs": [],
   "source": []
  }
 ],
 "metadata": {
  "kernelspec": {
   "display_name": "Python 3 (ipykernel)",
   "language": "python",
   "name": "python3"
  },
  "language_info": {
   "codemirror_mode": {
    "name": "ipython",
    "version": 3
   },
   "file_extension": ".py",
   "mimetype": "text/x-python",
   "name": "python",
   "nbconvert_exporter": "python",
   "pygments_lexer": "ipython3",
   "version": "3.9.7"
  }
 },
 "nbformat": 4,
 "nbformat_minor": 5
}
