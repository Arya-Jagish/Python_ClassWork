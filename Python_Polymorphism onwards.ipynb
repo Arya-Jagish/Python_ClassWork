{
 "cells": [
  {
   "cell_type": "code",
   "execution_count": 1,
   "id": "4cc27f87",
   "metadata": {},
   "outputs": [
    {
     "name": "stdout",
     "output_type": "stream",
     "text": [
      "Arya 23\n"
     ]
    }
   ],
   "source": [
    "class Person:\n",
    "    def __init__(self,name,age):\n",
    "        self.name=name\n",
    "        self.age=age\n",
    "        \n",
    "    def display(self):\n",
    "        print(self.name,self.age)\n",
    "        \n",
    "x=Person(\"Arya\",23)\n",
    "x.display()"
   ]
  },
  {
   "cell_type": "code",
   "execution_count": 10,
   "id": "5ea116ef",
   "metadata": {},
   "outputs": [
    {
     "name": "stdout",
     "output_type": "stream",
     "text": [
      "Arya 23\n",
      "PTA\n",
      "Welcome Arya 23 from the place PTA\n"
     ]
    }
   ],
   "source": [
    "class Person:\n",
    "    def __init__(self,name,age):\n",
    "        self.name=name\n",
    "        self.age=age\n",
    "        \n",
    "    def display(self):\n",
    "        print(self.name,self.age)\n",
    "        \n",
    "class Student(Person):\n",
    "    def __init__(self,name,age,place):       #super()function\n",
    "        super().__init__(name,age)\n",
    "        self.place=place\n",
    "        \n",
    "    def welcome(self):\n",
    "        print(\"Welcome\",self.name,self.age,\"from the place\",self.place)\n",
    "        \n",
    "\n",
    "        \n",
    "x=Student(\"Arya\",23,\"PTA\")\n",
    "x.display()\n",
    "print(x.place)\n",
    "x.welcome()"
   ]
  },
  {
   "cell_type": "code",
   "execution_count": 14,
   "id": "6aaa4176",
   "metadata": {},
   "outputs": [
    {
     "name": "stdout",
     "output_type": "stream",
     "text": [
      "Apple\n",
      "Orange\n",
      "Grapes\n"
     ]
    }
   ],
   "source": [
    "# Iterators = countable number of values\n",
    "\n",
    "mytuple=(\"Apple\",\"Orange\",\"Grapes\")\n",
    "my_iterator=iter(mytuple)\n",
    "\n",
    "print(next(my_iterator))\n",
    "print(next(my_iterator))\n",
    "print(next(my_iterator))\n",
    "\n"
   ]
  },
  {
   "cell_type": "code",
   "execution_count": 18,
   "id": "fed64343",
   "metadata": {},
   "outputs": [
    {
     "name": "stdout",
     "output_type": "stream",
     "text": [
      "1\n",
      "2\n",
      "3\n",
      "4\n",
      "5\n",
      "6\n",
      "7\n",
      "8\n"
     ]
    }
   ],
   "source": [
    "# Iterator the class creation\n",
    "\n",
    "\n",
    "class Person:\n",
    "    def __iter__(self):\n",
    "        self.a=1\n",
    "        return self\n",
    "    \n",
    "    def __next__(self):\n",
    "        x=self.a\n",
    "        self.a +=1\n",
    "        return x\n",
    "    \n",
    "# my_class=Person()\n",
    "my_iter=iter(Person())\n",
    "\n",
    "print(next(my_iter))\n",
    "print(next(my_iter))\n",
    "print(next(my_iter))\n",
    "print(next(my_iter))\n",
    "print(next(my_iter))\n",
    "print(next(my_iter))\n",
    "print(next(my_iter))\n",
    "print(next(my_iter))       \n"
   ]
  },
  {
   "cell_type": "code",
   "execution_count": 20,
   "id": "f3fb6c52",
   "metadata": {},
   "outputs": [
    {
     "name": "stdout",
     "output_type": "stream",
     "text": [
      "1\n",
      "2\n",
      "3\n",
      "4\n",
      "5\n",
      "6\n",
      "7\n",
      "8\n",
      "9\n",
      "10\n",
      "11\n",
      "12\n",
      "13\n",
      "14\n",
      "15\n",
      "16\n",
      "17\n",
      "18\n",
      "19\n",
      "20\n"
     ]
    }
   ],
   "source": [
    "# Stop Iteration\n",
    "\n",
    "class Person:\n",
    "    def __iter__(self):\n",
    "        self.a=1\n",
    "        return self\n",
    "    def __next__(self):\n",
    "        if self.a <= 20:\n",
    "            x=self.a\n",
    "            self.a += 1\n",
    "            return x\n",
    "        else:\n",
    "            raise StopIteration\n",
    "            \n",
    "my_iter = iter(Person())\n",
    "\n",
    "for x in my_iter:\n",
    "    print(x)\n",
    "            "
   ]
  },
  {
   "cell_type": "code",
   "execution_count": 21,
   "id": "454841be",
   "metadata": {},
   "outputs": [
    {
     "name": "stdout",
     "output_type": "stream",
     "text": [
      "First Person\n",
      "Second Person\n",
      "Third Person\n"
     ]
    }
   ],
   "source": [
    "# Polymorphism - many forms\n",
    "\n",
    "class Person1:\n",
    "    def __init__(self,name,age):\n",
    "        self.name=name\n",
    "        self.age=age\n",
    "        \n",
    "    def move(self):\n",
    "        print(\"First Person\")\n",
    "        \n",
    "class Person2:\n",
    "    def __init__(self,name,age):\n",
    "        self.name=name\n",
    "        self.age=age\n",
    "    \n",
    "    def move(self):\n",
    "        print(\"Second Person\")\n",
    "        \n",
    "class Person3:\n",
    "    def __init__(self,name,age):\n",
    "        self.name=name\n",
    "        self.age=age\n",
    "        \n",
    "    def move(self):\n",
    "        print(\"Third Person\")\n",
    "        \n",
    "Person1=Person1(\"Arya\",23)\n",
    "Person2=Person2(\"Jino\",23)\n",
    "Person3=Person3(\"Jeru\",23)\n",
    "\n",
    "for x in (Person1,Person2,Person3):\n",
    "    x.move()\n",
    "        "
   ]
  },
  {
   "cell_type": "code",
   "execution_count": 24,
   "id": "02d26906",
   "metadata": {},
   "outputs": [
    {
     "name": "stdout",
     "output_type": "stream",
     "text": [
      "Ford\n",
      "Mustang\n",
      "Move\n",
      "Ibiza\n",
      "Tourin 20\n",
      "sail\n",
      "Boeing\n",
      "757\n",
      "fly!\n"
     ]
    }
   ],
   "source": [
    "# Inheritance Class Polymorphism\n",
    "\n",
    "class Vehicle:\n",
    "    def __init__(self,brand,model):\n",
    "        self.brand=brand\n",
    "        self.model=model\n",
    "        \n",
    "    def move(self):\n",
    "        print(\"Move\")\n",
    "        \n",
    "class Car(Vehicle):\n",
    "    pass\n",
    "\n",
    "class Boat(Vehicle):\n",
    "    def move(self):\n",
    "        print(\"sail\")\n",
    "        \n",
    "class Plane(Vehicle):\n",
    "    def move(self):\n",
    "        print(\"fly!\")\n",
    "        \n",
    "car1=Car(\"Ford\",\"Mustang\")\n",
    "boat1=Boat(\"Ibiza\",\"Tourin 20\")\n",
    "plane1=Plane(\"Boeing\",\"757\")\n",
    "\n",
    "for x in (car1,boat1,plane1):\n",
    "    print(x.brand)\n",
    "    print(x.model)\n",
    "    x.move()"
   ]
  },
  {
   "cell_type": "code",
   "execution_count": null,
   "id": "83b8dd20",
   "metadata": {},
   "outputs": [],
   "source": []
  }
 ],
 "metadata": {
  "kernelspec": {
   "display_name": "Python 3 (ipykernel)",
   "language": "python",
   "name": "python3"
  },
  "language_info": {
   "codemirror_mode": {
    "name": "ipython",
    "version": 3
   },
   "file_extension": ".py",
   "mimetype": "text/x-python",
   "name": "python",
   "nbconvert_exporter": "python",
   "pygments_lexer": "ipython3",
   "version": "3.10.9"
  }
 },
 "nbformat": 4,
 "nbformat_minor": 5
}
