{
 "cells": [
  {
   "cell_type": "code",
   "execution_count": 16,
   "id": "82eff296",
   "metadata": {},
   "outputs": [
    {
     "name": "stdout",
     "output_type": "stream",
     "text": [
      "61.0\n",
      "55.0\n",
      "ModeResult(mode=array([40]), count=array([2]))\n"
     ]
    }
   ],
   "source": [
    "import numpy\n",
    "from scipy import stats\n",
    "\n",
    "marks=[50,40,90,60,50,40,80,75,95,30]\n",
    "\n",
    "# mean , median, mode\n",
    "\n",
    "print(numpy.mean(marks))\n",
    "print(numpy.median(marks))\n",
    "print(stats.mode(marks))\n"
   ]
  },
  {
   "cell_type": "code",
   "execution_count": 13,
   "id": "e390ba8f",
   "metadata": {},
   "outputs": [
    {
     "name": "stdout",
     "output_type": "stream",
     "text": [
      "Requirement already satisfied: sciPy in c:\\programdata\\anaconda3\\lib\\site-packages (1.7.1)\n",
      "Requirement already satisfied: numpy<1.23.0,>=1.16.5 in c:\\programdata\\anaconda3\\lib\\site-packages (from sciPy) (1.20.3)\n",
      "Note: you may need to restart the kernel to use updated packages.\n"
     ]
    }
   ],
   "source": [
    "pip install sciPy"
   ]
  },
  {
   "cell_type": "code",
   "execution_count": 17,
   "id": "6537bc0d",
   "metadata": {},
   "outputs": [
    {
     "data": {
      "text/plain": [
       "21.540659228538015"
      ]
     },
     "execution_count": 17,
     "metadata": {},
     "output_type": "execute_result"
    }
   ],
   "source": [
    "import numpy #Std deviation\n",
    "\n",
    "marks=[50,40,90,60,50,40,80,75,95,30]\n",
    "numpy.std(marks)"
   ]
  },
  {
   "cell_type": "code",
   "execution_count": 22,
   "id": "30a5fd7d",
   "metadata": {},
   "outputs": [
    {
     "name": "stdout",
     "output_type": "stream",
     "text": [
      "464.0\n",
      "78.75\n"
     ]
    }
   ],
   "source": [
    "import numpy #variance\n",
    "\n",
    "marks=[50,40,90,60,50,40,80,75,95,30]\n",
    "print(numpy.var(marks))\n",
    "print(numpy.percentile(marks,75)) # dataset,value"
   ]
  },
  {
   "cell_type": "code",
   "execution_count": 31,
   "id": "04f84301",
   "metadata": {},
   "outputs": [
    {
     "name": "stdout",
     "output_type": "stream",
     "text": [
      "[3.87024971 1.69321646 0.65750716 0.02277504 4.97860027 2.79910539\n",
      " 4.6777265  0.55282337 0.20708753 0.48418533 3.22351273 4.02612314\n",
      " 1.57608919 4.33193963 1.70898891 2.7238356  4.80496982 0.21077931\n",
      " 4.04138796 0.12337081 2.5644626  1.75592215 0.10144159 1.79965159\n",
      " 2.07336016 1.36718861 1.92659024 4.00436149 2.87178612 2.89626459\n",
      " 4.40819228 1.47590186 3.18733756 0.39841923 3.50000737 4.92653147\n",
      " 3.81499409 1.2980322  3.67149722 2.58945255 2.50688345 0.82231811\n",
      " 0.58357298 1.14293809 0.2897691  1.32444645 4.82628664 2.971336\n",
      " 4.40376566 4.99226087]\n"
     ]
    },
    {
     "data": {
      "text/plain": [
       "(array([8., 4., 5., 6., 2., 7., 3., 3., 6., 6.]),\n",
       " array([0.02277504, 0.51972362, 1.0166722 , 1.51362079, 2.01056937,\n",
       "        2.50751795, 3.00446654, 3.50141512, 3.9983637 , 4.49531229,\n",
       "        4.99226087]),\n",
       " <BarContainer object of 10 artists>)"
      ]
     },
     "execution_count": 31,
     "metadata": {},
     "output_type": "execute_result"
    },
    {
     "data": {
      "image/png": "[encoded data removed]",
      "text/plain": [
       "<Figure size 432x288 with 1 Axes>"
      ]
     },
     "metadata": {
      "needs_background": "light"
     },
     "output_type": "display_data"
    }
   ],
   "source": [
    "# Create an array containing 50 random plots between 0 to 5\n",
    "\n",
    "import numpy\n",
    "import matplotlib.pyplot as plt\n",
    "\n",
    "x=numpy.random.uniform(0,5,50)\n",
    "\n",
    "print(x)\n",
    "plt.hist(x)"
   ]
  },
  {
   "cell_type": "code",
   "execution_count": 33,
   "id": "e9a3ebd0",
   "metadata": {},
   "outputs": [
    {
     "data": {
      "text/plain": [
       "(array([ 96., 100., 110., 116.,  77.,  90., 106., 102.,  99., 100.,  99.,\n",
       "        112.,  80.,  97.,  97., 110.,  92.,  92., 104.,  99.,  94.,  97.,\n",
       "        110.,  96., 123., 103.,  96.,  98., 109., 104., 109.,  95.,  88.,\n",
       "        109., 104.,  98.,  92.,  89., 104.,  81.,  96., 100.,  96., 119.,\n",
       "        110., 104.,  99.,  95.,  97., 114., 103., 108.,  90., 112.,  99.,\n",
       "        100.,  95., 105., 112.,  91., 100., 104.,  85., 107., 113.,  92.,\n",
       "         91.,  93.,  99.,  86., 114., 105.,  91.,  91., 103., 109.,  96.,\n",
       "        101.,  88.,  98.,  98.,  94., 100., 118.,  92., 103.,  86., 107.,\n",
       "        118.,  97., 108.,  91., 107.,  91.,  97., 106.,  97., 109.,  94.,\n",
       "         99.]),\n",
       " array([2.31251077e-05, 5.00193850e-02, 1.00015645e-01, 1.50011905e-01,\n",
       "        2.00008165e-01, 2.50004425e-01, 3.00000685e-01, 3.49996945e-01,\n",
       "        3.99993205e-01, 4.49989465e-01, 4.99985724e-01, 5.49981984e-01,\n",
       "        5.99978244e-01, 6.49974504e-01, 6.99970764e-01, 7.49967024e-01,\n",
       "        7.99963284e-01, 8.49959544e-01, 8.99955804e-01, 9.49952064e-01,\n",
       "        9.99948324e-01, 1.04994458e+00, 1.09994084e+00, 1.14993710e+00,\n",
       "        1.19993336e+00, 1.24992962e+00, 1.29992588e+00, 1.34992214e+00,\n",
       "        1.39991840e+00, 1.44991466e+00, 1.49991092e+00, 1.54990718e+00,\n",
       "        1.59990344e+00, 1.64989970e+00, 1.69989596e+00, 1.74989222e+00,\n",
       "        1.79988848e+00, 1.84988474e+00, 1.89988100e+00, 1.94987726e+00,\n",
       "        1.99987352e+00, 2.04986978e+00, 2.09986604e+00, 2.14986230e+00,\n",
       "        2.19985856e+00, 2.24985482e+00, 2.29985108e+00, 2.34984734e+00,\n",
       "        2.39984360e+00, 2.44983986e+00, 2.49983612e+00, 2.54983238e+00,\n",
       "        2.59982864e+00, 2.64982490e+00, 2.69982116e+00, 2.74981742e+00,\n",
       "        2.79981368e+00, 2.84980994e+00, 2.89980620e+00, 2.94980246e+00,\n",
       "        2.99979872e+00, 3.04979498e+00, 3.09979124e+00, 3.14978750e+00,\n",
       "        3.19978376e+00, 3.24978002e+00, 3.29977628e+00, 3.34977254e+00,\n",
       "        3.39976880e+00, 3.44976506e+00, 3.49976132e+00, 3.54975758e+00,\n",
       "        3.59975384e+00, 3.64975010e+00, 3.69974636e+00, 3.74974262e+00,\n",
       "        3.79973888e+00, 3.84973514e+00, 3.89973140e+00, 3.94972766e+00,\n",
       "        3.99972392e+00, 4.04972018e+00, 4.09971644e+00, 4.14971270e+00,\n",
       "        4.19970896e+00, 4.24970522e+00, 4.29970148e+00, 4.34969774e+00,\n",
       "        4.39969400e+00, 4.44969026e+00, 4.49968652e+00, 4.54968278e+00,\n",
       "        4.59967904e+00, 4.64967530e+00, 4.69967156e+00, 4.74966782e+00,\n",
       "        4.79966408e+00, 4.84966034e+00, 4.89965660e+00, 4.94965286e+00,\n",
       "        4.99964912e+00]),\n",
       " <BarContainer object of 100 artists>)"
      ]
     },
     "execution_count": 33,
     "metadata": {},
     "output_type": "execute_result"
    },
    {
     "data": {
      "image/png": "[encoded data removed]",
      "text/plain": [
       "<Figure size 432x288 with 1 Axes>"
      ]
     },
     "metadata": {
      "needs_background": "light"
     },
     "output_type": "display_data"
    }
   ],
   "source": [
    "import numpy\n",
    "import matplotlib.pyplot as plt\n",
    "\n",
    "x=numpy.random.uniform(0,5,10000)\n",
    "\n",
    "plt.hist(x,100)"
   ]
  },
  {
   "cell_type": "code",
   "execution_count": 36,
   "id": "aa1048fe",
   "metadata": {},
   "outputs": [
    {
     "data": {
      "text/plain": [
       "(array([  1.,   0.,   0.,   0.,   0.,   1.,   1.,   2.,   0.,   2.,   0.,\n",
       "          1.,   3.,   1.,   6.,   7.,   9.,   6.,  15.,  13.,  13.,  11.,\n",
       "         21.,  22.,  37.,  48.,  48.,  54.,  77.,  51.,  84.,  88., 112.,\n",
       "        112., 120., 139., 148., 146., 184., 182., 224., 225., 251., 255.,\n",
       "        298., 277., 298., 287., 275., 308., 311., 295., 306., 293., 304.,\n",
       "        295., 298., 279., 263., 251., 253., 231., 243., 198., 182., 184.,\n",
       "        161., 157., 128., 136., 105.,  95.,  83.,  73.,  65.,  59.,  55.,\n",
       "         38.,  32.,  30.,  34.,  22.,  17.,  15.,  13.,   8.,   6.,   8.,\n",
       "          1.,   1.,   3.,   2.,   0.,   1.,   1.,   0.,   1.,   0.,   0.,\n",
       "          1.]),\n",
       " array([-20.33168744, -19.94014924, -19.54861104, -19.15707284,\n",
       "        -18.76553464, -18.37399644, -17.98245824, -17.59092004,\n",
       "        -17.19938185, -16.80784365, -16.41630545, -16.02476725,\n",
       "        -15.63322905, -15.24169085, -14.85015265, -14.45861445,\n",
       "        -14.06707625, -13.67553805, -13.28399985, -12.89246165,\n",
       "        -12.50092345, -12.10938525, -11.71784705, -11.32630885,\n",
       "        -10.93477065, -10.54323245, -10.15169425,  -9.76015605,\n",
       "         -9.36861786,  -8.97707966,  -8.58554146,  -8.19400326,\n",
       "         -7.80246506,  -7.41092686,  -7.01938866,  -6.62785046,\n",
       "         -6.23631226,  -5.84477406,  -5.45323586,  -5.06169766,\n",
       "         -4.67015946,  -4.27862126,  -3.88708306,  -3.49554486,\n",
       "         -3.10400666,  -2.71246846,  -2.32093026,  -1.92939207,\n",
       "         -1.53785387,  -1.14631567,  -0.75477747,  -0.36323927,\n",
       "          0.02829893,   0.41983713,   0.81137533,   1.20291353,\n",
       "          1.59445173,   1.98598993,   2.37752813,   2.76906633,\n",
       "          3.16060453,   3.55214273,   3.94368093,   4.33521913,\n",
       "          4.72675733,   5.11829553,   5.50983373,   5.90137192,\n",
       "          6.29291012,   6.68444832,   7.07598652,   7.46752472,\n",
       "          7.85906292,   8.25060112,   8.64213932,   9.03367752,\n",
       "          9.42521572,   9.81675392,  10.20829212,  10.59983032,\n",
       "         10.99136852,  11.38290672,  11.77444492,  12.16598312,\n",
       "         12.55752132,  12.94905952,  13.34059771,  13.73213591,\n",
       "         14.12367411,  14.51521231,  14.90675051,  15.29828871,\n",
       "         15.68982691,  16.08136511,  16.47290331,  16.86444151,\n",
       "         17.25597971,  17.64751791,  18.03905611,  18.43059431,\n",
       "         18.82213251]),\n",
       " <BarContainer object of 100 artists>)"
      ]
     },
     "execution_count": 36,
     "metadata": {},
     "output_type": "execute_result"
    },
    {
     "data": {
      "image/png": "[encoded data removed]",
      "text/plain": [
       "<Figure size 432x288 with 1 Axes>"
      ]
     },
     "metadata": {
      "needs_background": "light"
     },
     "output_type": "display_data"
    }
   ],
   "source": [
    "import numpy\n",
    "import matplotlib.pyplot as plt\n",
    "\n",
    "x=numpy.random.normal(0,5,10000)\n",
    "\n",
    "plt.hist(x,100)  #parameters are mean and std deviations."
   ]
  },
  {
   "cell_type": "code",
   "execution_count": null,
   "id": "6fe36d29",
   "metadata": {},
   "outputs": [],
   "source": []
  }
 ],
 "metadata": {
  "kernelspec": {
   "display_name": "Python 3 (ipykernel)",
   "language": "python",
   "name": "python3"
  },
  "language_info": {
   "codemirror_mode": {
    "name": "ipython",
    "version": 3
   },
   "file_extension": ".py",
   "mimetype": "text/x-python",
   "name": "python",
   "nbconvert_exporter": "python",
   "pygments_lexer": "ipython3",
   "version": "3.9.7"
  }
 },
 "nbformat": 4,
 "nbformat_minor": 5
}
